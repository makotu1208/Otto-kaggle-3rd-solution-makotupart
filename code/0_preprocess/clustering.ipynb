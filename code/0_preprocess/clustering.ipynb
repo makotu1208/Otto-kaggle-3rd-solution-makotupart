{
 "cells": [
  {
   "cell_type": "markdown",
   "id": "d9c044ce",
   "metadata": {},
   "source": [
    "- Please run this after running \"word2vec-16dim.ipynb\""
   ]
  },
  {
   "cell_type": "code",
   "execution_count": 1,
   "id": "2ba0ff0c",
   "metadata": {},
   "outputs": [
    {
     "name": "stdout",
     "output_type": "stream",
     "text": [
      "We will use RAPIDS version 22.10.00a+392.g1558403753\n"
     ]
    }
   ],
   "source": [
    "from sklearn.cluster import SpectralClustering\n",
    "import pandas as pd, numpy as np\n",
    "from tqdm.notebook import tqdm\n",
    "import os, sys, pickle, glob, gc\n",
    "from collections import Counter\n",
    "import cudf, itertools\n",
    "import cuml, cupy\n",
    "from cuml.neighbors import NearestNeighbors\n",
    "import muon\n",
    "import scanpy as sc\n",
    "print('We will use RAPIDS version',cudf.__version__)\n",
    "\n",
    "cudf.set_option(\"default_integer_bitwidth\", 32)\n",
    "cudf.set_option(\"default_float_bitwidth\", 32)"
   ]
  },
  {
   "cell_type": "code",
   "execution_count": 3,
   "id": "bb7eb84c",
   "metadata": {},
   "outputs": [],
   "source": [
    "w2v_path = '../../input/preprocess/'\n",
    "output_path = '../../input/preprocess/'"
   ]
  },
  {
   "cell_type": "code",
   "execution_count": 4,
   "id": "08c6c2de",
   "metadata": {},
   "outputs": [],
   "source": [
    "w2v = pd.read_parquet(w2v_path + 'test_' + 'w2v_output_16dims.parquet')\n",
    "w2v = w2v.sort_values('aid').reset_index(drop=True)"
   ]
  },
  {
   "cell_type": "code",
   "execution_count": null,
   "id": "7a6ac169",
   "metadata": {},
   "outputs": [],
   "source": [
    "%%time\n",
    "X_all = sc.AnnData(X = w2v.iloc[:,1:].values)\n",
    "sc.pp.neighbors(X_all, use_rep = 'X', n_neighbors=64, method='umap')\n",
    "sc.tl.leiden(X_all)"
   ]
  },
  {
   "cell_type": "code",
   "execution_count": null,
   "id": "35cc1bf1",
   "metadata": {},
   "outputs": [],
   "source": [
    "aid_df = w2v[['aid']].copy()\n",
    "aid_df['cluster'] = list(X_all.obs['leiden'])\n",
    "aid_df['cluster'] = aid_df['cluster'].astype(np.int16)\n",
    "aid_df.to_parquet(output_path + 'aid_cluster.parquet')"
   ]
  },
  {
   "cell_type": "code",
   "execution_count": null,
   "id": "ce804508",
   "metadata": {},
   "outputs": [],
   "source": []
  }
 ],
 "metadata": {
  "kernelspec": {
   "display_name": "Python 3",
   "language": "python",
   "name": "python3"
  },
  "language_info": {
   "codemirror_mode": {
    "name": "ipython",
    "version": 3
   },
   "file_extension": ".py",
   "mimetype": "text/x-python",
   "name": "python",
   "nbconvert_exporter": "python",
   "pygments_lexer": "ipython3",
   "version": "3.8.10"
  }
 },
 "nbformat": 4,
 "nbformat_minor": 5
}
