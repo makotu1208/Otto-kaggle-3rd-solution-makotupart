{
 "cells": [
  {
   "cell_type": "code",
   "execution_count": 1,
   "id": "42d09e11",
   "metadata": {},
   "outputs": [],
   "source": [
    "import scipy.sparse as sparse\n",
    "import implicit\n",
    "import pandas as pd\n",
    "import numpy as np\n",
    "import json\n",
    "import pickle"
   ]
  },
  {
   "cell_type": "code",
   "execution_count": 2,
   "id": "39b16df3",
   "metadata": {},
   "outputs": [],
   "source": [
    "USER_ID = 'session'\n",
    "ITEM_ID = 'aid'"
   ]
  },
  {
   "cell_type": "code",
   "execution_count": 3,
   "id": "7734cae9",
   "metadata": {},
   "outputs": [],
   "source": [
    "raw_opt_path = '../../input/train_test/'\n",
    "preprocess_path = '../../input/train_valid/'\n",
    "output_path = '../../input/preprocess/'\n",
    "\n",
    "SEED = 1208"
   ]
  },
  {
   "cell_type": "code",
   "execution_count": 4,
   "id": "4a9600fb",
   "metadata": {},
   "outputs": [],
   "source": [
    "use_all_data = True\n",
    "\n",
    "# chris dataset check\n",
    "if use_all_data == True:\n",
    "    train = pd.read_parquet(raw_opt_path + 'train.parquet')\n",
    "    test = pd.read_parquet(raw_opt_path + 'test.parquet')\n",
    "else:\n",
    "    train = pd.read_parquet(preprocess_path + 'train.parquet')\n",
    "    test = pd.read_parquet(preprocess_path + 'test.parquet')\n",
    "    \n",
    "if use_all_data == True:\n",
    "    prefix = 'test_'\n",
    "else:\n",
    "    prefix = 'train_'"
   ]
  },
  {
   "cell_type": "code",
   "execution_count": 5,
   "id": "814b0243",
   "metadata": {},
   "outputs": [
    {
     "data": {
      "application/vnd.jupyter.widget-view+json": {
       "model_id": "c546261ea286418185e620404e2d02ce",
       "version_major": 2,
       "version_minor": 0
      },
      "text/plain": [
       "  0%|          | 0/5000 [00:00<?, ?it/s]"
      ]
     },
     "metadata": {},
     "output_type": "display_data"
    },
    {
     "name": "stdout",
     "output_type": "stream",
     "text": [
      "CPU times: user 46min 6s, sys: 55.5 s, total: 47min 2s\n",
      "Wall time: 47min 4s\n"
     ]
    }
   ],
   "source": [
    "%%time\n",
    "df = pd.concat([train, test])\n",
    "df['user_label'], user_idx = pd.factorize(df[USER_ID])\n",
    "df['item_label'], item_idx = pd.factorize(df[ITEM_ID])\n",
    "sparse_item_user = sparse.csr_matrix((np.ones(len(df)), (df['user_label'], df['item_label'])))\n",
    "epoch, emb_size = 5000, 64\n",
    "model = implicit.bpr.BayesianPersonalizedRanking(factors=emb_size, regularization=0.001, iterations=epoch,\n",
    "                                                 random_state=SEED)\n",
    "model.fit(sparse_item_user)\n",
    "u2emb = dict(zip(user_idx, model.user_factors.to_numpy()))\n",
    "i2emb = dict(zip(item_idx, model.item_factors.to_numpy()))"
   ]
  },
  {
   "cell_type": "code",
   "execution_count": 7,
   "id": "3973fbaf",
   "metadata": {},
   "outputs": [],
   "source": [
    "with open(f'{output_path}u2emb{prefix}.pkl', 'wb') as fp:\n",
    "    pickle.dump(u2emb, fp)"
   ]
  },
  {
   "cell_type": "code",
   "execution_count": 8,
   "id": "664c54fc",
   "metadata": {},
   "outputs": [],
   "source": [
    "with open(f'{output_path}i2emb{prefix}.pkl', 'wb') as fp:\n",
    "    pickle.dump(i2emb, fp)"
   ]
  }
 ],
 "metadata": {
  "kernelspec": {
   "display_name": "Python 3",
   "language": "python",
   "name": "python3"
  },
  "language_info": {
   "codemirror_mode": {
    "name": "ipython",
    "version": 3
   },
   "file_extension": ".py",
   "mimetype": "text/x-python",
   "name": "python",
   "nbconvert_exporter": "python",
   "pygments_lexer": "ipython3",
   "version": "3.8.10"
  }
 },
 "nbformat": 4,
 "nbformat_minor": 5
}
