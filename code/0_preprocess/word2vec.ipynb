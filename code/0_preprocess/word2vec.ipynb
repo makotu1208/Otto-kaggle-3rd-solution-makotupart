{
 "cells": [
  {
   "cell_type": "code",
   "execution_count": 1,
   "id": "85df4ca3",
   "metadata": {},
   "outputs": [],
   "source": [
    "import pandas as pd\n",
    "import numpy as np\n",
    "from tqdm.notebook import tqdm\n",
    "import os, sys, pickle, glob, gc\n",
    "import polars as pl\n",
    "from gensim.test.utils import common_texts\n",
    "from gensim.models import Word2Vec"
   ]
  },
  {
   "cell_type": "code",
   "execution_count": 3,
   "id": "e85a4f68",
   "metadata": {},
   "outputs": [],
   "source": [
    "def main(raw_opt_path, preprocess_path, output_path, dims = 16):\n",
    "    \n",
    "    train = pl.read_parquet(raw_opt_path + 'train.parquet')\n",
    "    test = pl.read_parquet(raw_opt_path + 'test.parquet')\n",
    "    merge = pl.concat([train, test])\n",
    "    del train, test\n",
    "    \n",
    "    merge = merge.filter(pl.col('type') == 0)\n",
    "    \n",
    "    sentence_df = merge.groupby('session').agg(pl.col('aid').alias('sentence'))\n",
    "    sentences = sentence_df['sentence'].to_list()\n",
    "    w2vec = Word2Vec(sentences=sentences, vector_size=dims, window=5, min_count=1, workers=4)\n",
    "    \n",
    "    w2v_df = pd.DataFrame(w2vec.wv.index_to_key, columns = ['aid'])\n",
    "    w2v_vev_df = pd.DataFrame(w2vec.wv.vectors).add_prefix('vec_')\n",
    "    w2v_df = pd.concat([w2v_df, w2v_vev_df], axis = 1)\n",
    "    w2v_df = w2v_df.rename(columns = {'session': 'aid'})\n",
    "    \n",
    "    if dims == 16:\n",
    "        w2v_df.to_parquet(output_path + f'w2v_output_16dims.parquet')\n",
    "    else:\n",
    "        w2v_df.to_parquet(output_path + f'w2v_output_64dims.parquet')"
   ]
  },
  {
   "cell_type": "code",
   "execution_count": null,
   "id": "fd69407c",
   "metadata": {},
   "outputs": [],
   "source": [
    "raw_opt_path = '../../input/train_test/'\n",
    "preprocess_path = '../../input/train_valid/'\n",
    "output_path = '../../input/preprocess/'\n",
    "\n",
    "main(raw_opt_path, preprocess_path, output_path, dims = 16)\n",
    "main(raw_opt_path, preprocess_path, output_path, dims = 64)"
   ]
  }
 ],
 "metadata": {
  "kernelspec": {
   "display_name": "Python 3",
   "language": "python",
   "name": "python3"
  },
  "language_info": {
   "codemirror_mode": {
    "name": "ipython",
    "version": 3
   },
   "file_extension": ".py",
   "mimetype": "text/x-python",
   "name": "python",
   "nbconvert_exporter": "python",
   "pygments_lexer": "ipython3",
   "version": "3.8.10"
  }
 },
 "nbformat": 4,
 "nbformat_minor": 5
}
